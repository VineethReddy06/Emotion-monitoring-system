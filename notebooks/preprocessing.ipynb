{
 "cells": [
  {
   "cell_type": "code",
   "execution_count": 1,
   "id": "ba936538",
   "metadata": {},
   "outputs": [
    {
     "name": "stdout",
     "output_type": "stream",
     "text": [
      "   Unnamed: 0                 content sentiment\n",
      "0           0      alonzo feels angry     anger\n",
      "1           1    alonzo feels furious     anger\n",
      "2           2  alonzo feels irritated     anger\n",
      "3           3    alonzo feels enraged     anger\n",
      "4           4    alonzo feels annoyed     anger\n",
      "Columns: Index(['Unnamed: 0', 'content', 'sentiment'], dtype='object')\n"
     ]
    }
   ],
   "source": [
    "import pandas as pd\n",
    "\n",
    "# Load the dataset\n",
    "df = pd.read_csv('../data/emotion_data.csv')\n",
    "\n",
    "# Preview the data\n",
    "print(df.head())\n",
    "print(\"Columns:\", df.columns)\n"
   ]
  }
 ],
 "metadata": {
  "kernelspec": {
   "display_name": "Python 3",
   "language": "python",
   "name": "python3"
  },
  "language_info": {
   "codemirror_mode": {
    "name": "ipython",
    "version": 3
   },
   "file_extension": ".py",
   "mimetype": "text/x-python",
   "name": "python",
   "nbconvert_exporter": "python",
   "pygments_lexer": "ipython3",
   "version": "3.13.1"
  }
 },
 "nbformat": 4,
 "nbformat_minor": 5
}
